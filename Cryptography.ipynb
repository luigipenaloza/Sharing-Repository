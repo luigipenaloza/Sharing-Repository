{
 "cells": [
  {
   "cell_type": "code",
   "execution_count": null,
   "metadata": {},
   "outputs": [],
   "source": [
    "#Installing Cryptography Packages\n",
    "#pip install cryptography"
   ]
  },
  {
   "cell_type": "markdown",
   "metadata": {},
   "source": [
    "---"
   ]
  },
  {
   "cell_type": "code",
   "execution_count": 1,
   "metadata": {},
   "outputs": [],
   "source": [
    "#Cryptography Module Python\n"
   ]
  },
  {
   "cell_type": "code",
   "execution_count": 3,
   "metadata": {},
   "outputs": [],
   "source": [
    "#Encryption done with a Fernet Symmetric Key\n",
    "#Keep this some place safe! If you lose it you’ll no longer be able to decrypt messages\n",
    "#Receivers uses same code to decrypt"
   ]
  },
  {
   "cell_type": "code",
   "execution_count": 1,
   "metadata": {},
   "outputs": [],
   "source": [
    "from cryptography.fernet import Fernet"
   ]
  },
  {
   "cell_type": "code",
   "execution_count": 2,
   "metadata": {},
   "outputs": [
    {
     "name": "stdout",
     "output_type": "stream",
     "text": [
      "b'gAAAAABcab6JzuGV9Kx3ZBjwmPpEEeL-HU8G3i1xNJPYW--4vqsPNPPgxzptZRzb-Pug5104revKpLZonhcxZ7-p61y0suakJDIIZ_qmErW-iUWEO7_OzoQ='\n",
      "b'DevNami Youtube Channel'\n"
     ]
    }
   ],
   "source": [
    "key= Fernet.generate_key() #will generate key or string\n",
    "\n",
    "cipher_suite=Fernet(key)\n",
    "\n",
    "cipher_text= cipher_suite.encrypt(b\"Hello World\") #encryption\n",
    "\n",
    "print(cipher_text) #encrypted text\n",
    "\n",
    "original_text= cipher_suite.decrypt(cipher_text) #decryption\n",
    "\n",
    "print(original_text) #decrypted text"
   ]
  },
  {
   "cell_type": "markdown",
   "metadata": {},
   "source": [
    "---"
   ]
  },
  {
   "cell_type": "code",
   "execution_count": null,
   "metadata": {},
   "outputs": [],
   "source": [
    "#Caesar Cipher\n",
    "def encrypt(string, shift):\n",
    " \n",
    "  cipher = ''\n",
    "  for char in string: \n",
    "    if char == ' ':\n",
    "      cipher = cipher + char\n",
    "    elif  char.isupper():\n",
    "      cipher = cipher + chr((ord(char) + shift - 65) % 26 + 65)\n",
    "    else:\n",
    "      cipher = cipher + chr((ord(char) + shift - 97) % 26 + 97)\n",
    "  \n",
    "  return cipher\n",
    " \n",
    "text = input(\"Enter a string: \")\n",
    "s = int(input(\"Enter a shift number: \"))\n",
    "print(\"\\nThe original string: \", text)\n",
    "print(\"\\nThe decrypted string: \", encrypt(text, s))"
   ]
  },
  {
   "cell_type": "markdown",
   "metadata": {},
   "source": [
    "---"
   ]
  },
  {
   "cell_type": "code",
   "execution_count": null,
   "metadata": {},
   "outputs": [],
   "source": [
    "##Encryption used to transfer files\n",
    "#Hashing used to check passwords"
   ]
  },
  {
   "cell_type": "code",
   "execution_count": 7,
   "metadata": {},
   "outputs": [],
   "source": [
    "#Hashing Algorithm -md5\n",

    "import hashlib\n",
    "crypt=hashlib.md5()"
   ]
  },
  {
   "cell_type": "code",
   "execution_count": null,
   "metadata": {},
   "outputs": [],
   "source": [
    "import hashlib #.sha256 (md()) another hashing 32 string\n",
    "crypt.update(b\"hello\") #b converts strings into bytes\n",
    "print(crypt.hexdigest()) #gives the hexidecimal format in the slashes\n",
    "print(crypt.digest_size())\n",
    "print(hashlib.algorithms_available) #to see available algorithms\n",
    "\n",
    "#These are good, but they can actually be reverse engineered or brute forced"
   ]
  },
  {
   "cell_type": "code",
   "execution_count": 6,
   "metadata": {},
   "outputs": [
    {
     "name": "stdout",
     "output_type": "stream",
     "text": [
      "5d41402abc4b2a76b9719d911017c592\n"
     ]
    }
   ],
   "source": [
    "#Brute Force, Dictionary Attack\n",
    "#We can convert every word in dictionary to md5, and then convert to hash given by word hello\n",
    "#By comparing, we can find the hashed password etc.\n",
    "import hashlib #.sha256 (md()) another hashing 32 string\n",
    "crypt.update(b\"hello\") #b converts strings into bytes\n",
    "print(crypt.hexdigest())\n",
    "\n",
    "#Put hash on decrypter website https://md5decrypt.net/#answer\n",
    "#Finds answer fast"
   ]
  },
  {
   "cell_type": "markdown",
   "metadata": {},
   "source": [
    "---"
   ]
  }
 ],
 "metadata": {
  "kernelspec": {
   "display_name": "Python 3",
   "language": "python",
   "name": "python3"
  },
  "language_info": {
   "codemirror_mode": {
    "name": "ipython",
    "version": 3
   },
   "file_extension": ".py",
   "mimetype": "text/x-python",
   "name": "python",
   "nbconvert_exporter": "python",
   "pygments_lexer": "ipython3",
   "version": "3.6.4"
  }
 },
 "nbformat": 4,
 "nbformat_minor": 2
}
